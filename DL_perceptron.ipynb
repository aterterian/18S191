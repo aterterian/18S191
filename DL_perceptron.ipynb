{
  "nbformat": 4,
  "nbformat_minor": 0,
  "metadata": {
    "colab": {
      "name": "DL-perceptron.ipynb",
      "provenance": [],
      "collapsed_sections": [],
      "authorship_tag": "ABX9TyPZWDG/Hqn5kHzv271VOJqr",
      "include_colab_link": true
    },
    "kernelspec": {
      "name": "python3",
      "display_name": "Python 3"
    }
  },
  "cells": [
    {
      "cell_type": "markdown",
      "metadata": {
        "id": "view-in-github",
        "colab_type": "text"
      },
      "source": [
        "<a href=\"https://colab.research.google.com/github/aterterian/18S191/blob/master/DL_perceptron.ipynb\" target=\"_parent\"><img src=\"https://colab.research.google.com/assets/colab-badge.svg\" alt=\"Open In Colab\"/></a>"
      ]
    },
    {
      "cell_type": "code",
      "metadata": {
        "id": "RV-8SuqLdAxT"
      },
      "source": [
        "# Assignment1 a multiclass perceptron for the digitrecognition task.\n",
        "# 0. \n",
        "# 1. Install the mnist package\n",
        "# 2. import needed libraries: numpy?\n",
        "# 3. Generate a training and a test set\n",
        "# 4. Implement the perceptron algorithm\n",
        "        #Start off with a Perceptron having random weights and a training set\n",
        "        #For the inputs of an example in the training set, compute the Perceptron’s output\n",
        "          #If the output of the Perceptron does not match the output that is known to be correct for the example:\n",
        "            #If the output should have been 0 but was 1, decrease the weights that had an input of 1.\n",
        "            #If the output should have been 1 but was 0, increase the weights that had an input of 1.\n",
        "        #Go to the next example in the training set and repeat steps 2-4 until the Perceptron makes no more mistakes\n"
      ],
      "execution_count": null,
      "outputs": []
    },
    {
      "cell_type": "markdown",
      "metadata": {
        "id": "PkodIm-3gpJN"
      },
      "source": [
        "![image.png](data:image/png;base64,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)"
      ]
    },
    {
      "cell_type": "code",
      "metadata": {
        "id": "-RXbmmzbD9rq",
        "colab": {
          "base_uri": "https://localhost:8080/"
        },
        "outputId": "61ab3576-3831-49c3-f624-3e509f053094"
      },
      "source": [
        "!pip install mnist\n"
      ],
      "execution_count": 20,
      "outputs": [
        {
          "output_type": "stream",
          "text": [
            "Requirement already satisfied: mnist in /usr/local/lib/python3.6/dist-packages (0.2.2)\n",
            "Requirement already satisfied: numpy in /usr/local/lib/python3.6/dist-packages (from mnist) (1.19.4)\n"
          ],
          "name": "stdout"
        }
      ]
    },
    {
      "cell_type": "code",
      "metadata": {
        "id": "yLV4akVcCjUn"
      },
      "source": [
        "import mnist\n",
        "import numpy as np\n",
        "import matplotlib.pyplot as plt"
      ],
      "execution_count": null,
      "outputs": []
    },
    {
      "cell_type": "code",
      "metadata": {
        "id": "ISwtr2Fy-dj1"
      },
      "source": [
        "test_imgs = mnist.test_images()\r\n",
        "print(test_imgs[47])\r\n",
        "train_imgs = mnist.train_images()\r\n",
        "print(f\"train_imgs: {test_imgs[47]}\")\r\n",
        "test_lbls = mnist.test_labels()\r\n",
        "train_lbls = mnist.train_labels()\r\n",
        "test_lbls[-2]\r\n",
        "train_lbls[-2]"
      ],
      "execution_count": 22,
      "outputs": []
    },
    {
      "cell_type": "code",
      "metadata": {
        "id": "-Zuo7vPxbmIK"
      },
      "source": [
        "\n"
      ],
      "execution_count": 23,
      "outputs": []
    },
    {
      "cell_type": "code",
      "metadata": {
        "id": "JlVJBcqkQf1q",
        "colab": {
          "base_uri": "https://localhost:8080/",
          "height": 282
        },
        "outputId": "f28ef920-747f-4250-9b88-b7868e3cf9d4"
      },
      "source": [
        "plt.imshow(train_imgs[-2].reshape(28, 28))"
      ],
      "execution_count": 24,
      "outputs": [
        {
          "output_type": "execute_result",
          "data": {
            "text/plain": [
              "<matplotlib.image.AxesImage at 0x7fd1a2ddeef0>"
            ]
          },
          "metadata": {
            "tags": []
          },
          "execution_count": 24
        },
        {
          "output_type": "display_data",
          "data": {
            "image/png": "[encoded data removed]",
            "text/plain": [
              "<Figure size 432x288 with 1 Axes>"
            ]
          },
          "metadata": {
            "tags": [],
            "needs_background": "light"
          }
        }
      ]
    },
    {
      "cell_type": "code",
      "metadata": {
        "id": "g2Vz_eMx5-Cg",
        "colab": {
          "base_uri": "https://localhost:8080/"
        },
        "outputId": "cc9e9843-beb9-495d-8519-a15a189d3548"
      },
      "source": [
        "test_lbls = mnist.test_labels()\n",
        "train_lbls = mnist.train_labels()\n",
        "test_lbls[-2]\n",
        "train_lbls[-2]"
      ],
      "execution_count": 25,
      "outputs": [
        {
          "output_type": "execute_result",
          "data": {
            "text/plain": [
              "6"
            ]
          },
          "metadata": {
            "tags": []
          },
          "execution_count": 25
        }
      ]
    },
    {
      "cell_type": "code",
      "metadata": {
        "id": "MGi3u2LhR_ma",
        "colab": {
          "base_uri": "https://localhost:8080/",
          "height": 136
        },
        "outputId": "52263a16-6a4f-444c-ddaf-936d3d49a7d3"
      },
      "source": [
        "len_train = train_imgs.size\n",
        "print(len_train)\n",
        "a = train_imgs\n",
        "print(a.shape)\n",
        "\n",
        "print(a.ndim)\n",
        "\n",
        "print(a.dtype.name)\n",
        "\n",
        "print(a.itemsize)\n",
        "a.itemsize\n",
        "print(a.size)\n",
        "\n",
        "type(a)"
      ],
      "execution_count": null,
      "outputs": [
        {
          "output_type": "stream",
          "text": [
            "47040000\n",
            "(60000, 28, 28)\n",
            "3\n",
            "uint8\n",
            "1\n",
            "47040000\n"
          ],
          "name": "stdout"
        },
        {
          "output_type": "execute_result",
          "data": {
            "text/plain": [
              "numpy.ndarray"
            ]
          },
          "metadata": {
            "tags": []
          },
          "execution_count": 25
        }
      ]
    },
    {
      "cell_type": "code",
      "metadata": {
        "id": "2cN0ItGvbwXx"
      },
      "source": [
        "plt.imshow(test_imgs[47].reshape(28, 28))"
      ],
      "execution_count": null,
      "outputs": []
    },
    {
      "cell_type": "code",
      "metadata": {
        "id": "RmnJwRldUuoy"
      },
      "source": [
        "X_test = test_imgs.reshape(10000, 784)\n",
        "X_train = train_imgs.reshape(60000, 784)"
      ],
      "execution_count": null,
      "outputs": []
    },
    {
      "cell_type": "code",
      "metadata": {
        "id": "YKSTACeD8dJw"
      },
      "source": [
        "X_test[47]"
      ],
      "execution_count": null,
      "outputs": []
    },
    {
      "cell_type": "code",
      "metadata": {
        "id": "PT3H5Tw_AK9n",
        "colab": {
          "base_uri": "https://localhost:8080/",
          "height": 51
        },
        "outputId": "3036cfe0-cfa2-4c01-c8fd-f21105774378"
      },
      "source": [
        "Y_train = mnist.train_labels()\n",
        "print(Y_train.shape)\n",
        "\n",
        "Y_test = mnist.test_labels()\n",
        "print(Y_test.shape)\n"
      ],
      "execution_count": null,
      "outputs": [
        {
          "output_type": "stream",
          "text": [
            "(60000,)\n",
            "(10000,)\n"
          ],
          "name": "stdout"
        }
      ]
    },
    {
      "cell_type": "code",
      "metadata": {
        "id": "rj7oucxW-kMM"
      },
      "source": [
        "# parameter initialisation\n",
        "b = 0\n",
        "W = np.zeros(784)\n",
        "print(b)\n",
        "W"
      ],
      "execution_count": null,
      "outputs": []
    },
    {
      "cell_type": "code",
      "metadata": {
        "id": "C63I8JJLEqY3"
      },
      "source": [
        "a = 8\n",
        "Y = (Y_train == np.ones(60000) * a) * 1\n",
        "Y[:10]\n",
        "Y1 = (Y_test == np.ones(10000) * a) * 1"
      ],
      "execution_count": null,
      "outputs": []
    },
    {
      "cell_type": "code",
      "metadata": {
        "id": "fbIcC1PUJqwH",
        "colab": {
          "base_uri": "https://localhost:8080/",
          "height": 34
        },
        "outputId": "25d233c0-3949-4fad-a97a-6d174616f6cb"
      },
      "source": [
        "Y_train[:10]"
      ],
      "execution_count": null,
      "outputs": [
        {
          "output_type": "execute_result",
          "data": {
            "text/plain": [
              "array([5, 0, 4, 1, 9, 2, 1, 3, 1, 4], dtype=uint8)"
            ]
          },
          "metadata": {
            "tags": []
          },
          "execution_count": 31
        }
      ]
    },
    {
      "cell_type": "code",
      "metadata": {
        "id": "mY0ZNLqtTLRN",
        "colab": {
          "base_uri": "https://localhost:8080/",
          "height": 34
        },
        "outputId": "5cd37a6f-6499-4913-cfe3-0801cc116211"
      },
      "source": [
        "temp = np.dot(X_train, W) + b\n",
        "temp[:10]\n",
        "#temp.shape"
      ],
      "execution_count": null,
      "outputs": [
        {
          "output_type": "execute_result",
          "data": {
            "text/plain": [
              "array([1., 1., 1., 1., 1., 1., 1., 1., 1., 1.])"
            ]
          },
          "metadata": {
            "tags": []
          },
          "execution_count": 39
        }
      ]
    },
    {
      "cell_type": "code",
      "metadata": {
        "id": "WU9m1P2BaKxD",
        "colab": {
          "base_uri": "https://localhost:8080/",
          "height": 34
        },
        "outputId": "bcb2d82a-72a0-43a7-c9b7-dded2491964c"
      },
      "source": [
        "n_samples, n_features = X_train.shape\n",
        "print(n_samples, n_features)"
      ],
      "execution_count": null,
      "outputs": [
        {
          "output_type": "stream",
          "text": [
            "60000 784\n"
          ],
          "name": "stdout"
        }
      ]
    },
    {
      "cell_type": "code",
      "metadata": {
        "id": "HMNeJ6Ls_wII"
      },
      "source": [
        "# Perceptron step\n",
        "n_samples, n_features = X_train.shape\n",
        "for i in range(n_samples):\n",
        "  linear_output = np.dot(X_train[i], W) + b\n",
        "  activation_output = np.where(linear_output>=0, 1, 0)\n",
        "  update = Y[i] - activation_output\n",
        "  W += update * X_train[i]\n",
        "  b += update\n",
        "\n",
        "\n"
      ],
      "execution_count": null,
      "outputs": []
    },
    {
      "cell_type": "code",
      "metadata": {
        "id": "N9X3vZXGd6Os",
        "colab": {
          "base_uri": "https://localhost:8080/",
          "height": 1000
        },
        "outputId": "9e64b4d0-2695-45f5-b140-8e1e5ca61dc1"
      },
      "source": [
        "#many epoches\n",
        "N = 200\n",
        "n_samples, n_features = X_train.shape\n",
        "for j in range(N):\n",
        "  for i in range(n_samples):\n",
        "    linear_output = np.dot(X_train[i], W) + b\n",
        "    activation_output = np.where(linear_output>=0, 1, 0)\n",
        "    update = Y[i] - activation_output\n",
        "    W += update * X_train[i]\n",
        "    b += update\n",
        "  print(f\"accuracy = {check_accuracy(X_train, W, b, Y)} - test accuracy: {check_accuracy(X_test, W, b, Y1)}\")\n"
      ],
      "execution_count": null,
      "outputs": [
        {
          "output_type": "stream",
          "text": [
            "accuracy = 0.8984333333333333 - test accuracy: 0.8959\n",
            "accuracy = 0.9226333333333333 - test accuracy: 0.9136\n",
            "accuracy = 0.9234833333333333 - test accuracy: 0.9128\n",
            "accuracy = 0.9184166666666667 - test accuracy: 0.9109\n",
            "accuracy = 0.9168 - test accuracy: 0.9098\n",
            "accuracy = 0.9311166666666667 - test accuracy: 0.9236\n",
            "accuracy = 0.9234666666666667 - test accuracy: 0.9188\n",
            "accuracy = 0.9175666666666666 - test accuracy: 0.9103\n",
            "accuracy = 0.9282166666666667 - test accuracy: 0.9191\n",
            "accuracy = 0.9223666666666667 - test accuracy: 0.9143\n",
            "accuracy = 0.9340166666666667 - test accuracy: 0.9221\n",
            "accuracy = 0.9172333333333333 - test accuracy: 0.9101\n",
            "accuracy = 0.9245666666666666 - test accuracy: 0.9171\n",
            "accuracy = 0.9274166666666667 - test accuracy: 0.9212\n",
            "accuracy = 0.9234333333333333 - test accuracy: 0.9165\n",
            "accuracy = 0.9165666666666666 - test accuracy: 0.9098\n",
            "accuracy = 0.9158833333333334 - test accuracy: 0.9085\n",
            "accuracy = 0.9238666666666666 - test accuracy: 0.9149\n",
            "accuracy = 0.9289333333333334 - test accuracy: 0.9181\n",
            "accuracy = 0.9142833333333333 - test accuracy: 0.9062\n",
            "accuracy = 0.9245333333333333 - test accuracy: 0.917\n",
            "accuracy = 0.9227666666666666 - test accuracy: 0.9142\n",
            "accuracy = 0.9365166666666667 - test accuracy: 0.9274\n",
            "accuracy = 0.9178333333333333 - test accuracy: 0.9078\n",
            "accuracy = 0.9291166666666667 - test accuracy: 0.9169\n",
            "accuracy = 0.9140833333333334 - test accuracy: 0.9066\n",
            "accuracy = 0.9184833333333333 - test accuracy: 0.9099\n",
            "accuracy = 0.9269 - test accuracy: 0.9189\n",
            "accuracy = 0.93095 - test accuracy: 0.9232\n",
            "accuracy = 0.9298833333333333 - test accuracy: 0.9213\n",
            "accuracy = 0.8980833333333333 - test accuracy: 0.8927\n",
            "accuracy = 0.9300166666666667 - test accuracy: 0.9215\n",
            "accuracy = 0.91305 - test accuracy: 0.9049\n",
            "accuracy = 0.9325666666666667 - test accuracy: 0.9235\n",
            "accuracy = 0.9333666666666667 - test accuracy: 0.9238\n",
            "accuracy = 0.9134333333333333 - test accuracy: 0.9071\n",
            "accuracy = 0.9075 - test accuracy: 0.9014\n",
            "accuracy = 0.9273333333333333 - test accuracy: 0.9157\n",
            "accuracy = 0.9078833333333334 - test accuracy: 0.8979\n",
            "accuracy = 0.9241833333333334 - test accuracy: 0.916\n",
            "accuracy = 0.9158166666666666 - test accuracy: 0.9052\n",
            "accuracy = 0.91135 - test accuracy: 0.9058\n",
            "accuracy = 0.9225666666666666 - test accuracy: 0.9123\n",
            "accuracy = 0.9163666666666667 - test accuracy: 0.9081\n",
            "accuracy = 0.92395 - test accuracy: 0.9178\n",
            "accuracy = 0.93175 - test accuracy: 0.9247\n",
            "accuracy = 0.93 - test accuracy: 0.9221\n",
            "accuracy = 0.91815 - test accuracy: 0.9127\n",
            "accuracy = 0.9230833333333334 - test accuracy: 0.9141\n",
            "accuracy = 0.8835833333333334 - test accuracy: 0.8765\n",
            "accuracy = 0.9235833333333333 - test accuracy: 0.9123\n",
            "accuracy = 0.9230666666666667 - test accuracy: 0.9135\n",
            "accuracy = 0.9258833333333333 - test accuracy: 0.9153\n",
            "accuracy = 0.9202666666666667 - test accuracy: 0.9131\n",
            "accuracy = 0.9313333333333333 - test accuracy: 0.9217\n",
            "accuracy = 0.93095 - test accuracy: 0.9197\n",
            "accuracy = 0.9302833333333334 - test accuracy: 0.9233\n",
            "accuracy = 0.9277333333333333 - test accuracy: 0.9188\n",
            "accuracy = 0.93015 - test accuracy: 0.9224\n",
            "accuracy = 0.9288 - test accuracy: 0.9192\n",
            "accuracy = 0.9113833333333333 - test accuracy: 0.9032\n",
            "accuracy = 0.9254166666666667 - test accuracy: 0.9166\n",
            "accuracy = 0.9247 - test accuracy: 0.9167\n",
            "accuracy = 0.9163333333333333 - test accuracy: 0.9071\n",
            "accuracy = 0.9125 - test accuracy: 0.905\n",
            "accuracy = 0.92775 - test accuracy: 0.9201\n",
            "accuracy = 0.9282833333333333 - test accuracy: 0.9192\n",
            "accuracy = 0.9176333333333333 - test accuracy: 0.9088\n",
            "accuracy = 0.9260833333333334 - test accuracy: 0.9189\n",
            "accuracy = 0.9282333333333334 - test accuracy: 0.9189\n",
            "accuracy = 0.9224333333333333 - test accuracy: 0.9154\n",
            "accuracy = 0.93 - test accuracy: 0.9228\n",
            "accuracy = 0.9333 - test accuracy: 0.9246\n",
            "accuracy = 0.9075833333333333 - test accuracy: 0.8986\n",
            "accuracy = 0.9308833333333333 - test accuracy: 0.924\n",
            "accuracy = 0.9306333333333333 - test accuracy: 0.9242\n",
            "accuracy = 0.9298333333333333 - test accuracy: 0.9211\n",
            "accuracy = 0.9243 - test accuracy: 0.9158\n",
            "accuracy = 0.90855 - test accuracy: 0.9003\n",
            "accuracy = 0.91245 - test accuracy: 0.906\n",
            "accuracy = 0.9129833333333334 - test accuracy: 0.9036\n",
            "accuracy = 0.9170833333333334 - test accuracy: 0.9123\n",
            "accuracy = 0.9332 - test accuracy: 0.9227\n",
            "accuracy = 0.9177 - test accuracy: 0.9098\n",
            "accuracy = 0.9212 - test accuracy: 0.9147\n",
            "accuracy = 0.9180833333333334 - test accuracy: 0.9107\n",
            "accuracy = 0.9041833333333333 - test accuracy: 0.8951\n",
            "accuracy = 0.9256166666666666 - test accuracy: 0.9164\n",
            "accuracy = 0.9186 - test accuracy: 0.9107\n",
            "accuracy = 0.9296166666666666 - test accuracy: 0.9192\n",
            "accuracy = 0.9205 - test accuracy: 0.9116\n",
            "accuracy = 0.9326 - test accuracy: 0.9234\n",
            "accuracy = 0.9293 - test accuracy: 0.9203\n",
            "accuracy = 0.9241666666666667 - test accuracy: 0.916\n",
            "accuracy = 0.9108 - test accuracy: 0.9025\n",
            "accuracy = 0.88775 - test accuracy: 0.8792\n",
            "accuracy = 0.9301833333333334 - test accuracy: 0.9198\n",
            "accuracy = 0.9257666666666666 - test accuracy: 0.9165\n",
            "accuracy = 0.9177166666666666 - test accuracy: 0.911\n",
            "accuracy = 0.9321 - test accuracy: 0.9226\n",
            "accuracy = 0.91045 - test accuracy: 0.9033\n",
            "accuracy = 0.9342666666666667 - test accuracy: 0.9251\n",
            "accuracy = 0.9303666666666667 - test accuracy: 0.9185\n",
            "accuracy = 0.9283666666666667 - test accuracy: 0.9185\n",
            "accuracy = 0.93425 - test accuracy: 0.9252\n",
            "accuracy = 0.9101666666666667 - test accuracy: 0.901\n",
            "accuracy = 0.9222 - test accuracy: 0.9137\n",
            "accuracy = 0.9177 - test accuracy: 0.9105\n",
            "accuracy = 0.9232166666666667 - test accuracy: 0.9124\n",
            "accuracy = 0.9255 - test accuracy: 0.9164\n",
            "accuracy = 0.9326833333333333 - test accuracy: 0.9235\n",
            "accuracy = 0.8980333333333334 - test accuracy: 0.8928\n",
            "accuracy = 0.9218 - test accuracy: 0.9135\n",
            "accuracy = 0.9325666666666667 - test accuracy: 0.9229\n",
            "accuracy = 0.9203666666666667 - test accuracy: 0.9117\n",
            "accuracy = 0.9258666666666666 - test accuracy: 0.9163\n",
            "accuracy = 0.9285333333333333 - test accuracy: 0.9201\n",
            "accuracy = 0.92565 - test accuracy: 0.9165\n",
            "accuracy = 0.93475 - test accuracy: 0.9254\n",
            "accuracy = 0.9189833333333334 - test accuracy: 0.9124\n",
            "accuracy = 0.9351 - test accuracy: 0.9268\n",
            "accuracy = 0.9331333333333334 - test accuracy: 0.9249\n",
            "accuracy = 0.9251666666666667 - test accuracy: 0.9165\n",
            "accuracy = 0.9302166666666667 - test accuracy: 0.9221\n",
            "accuracy = 0.93195 - test accuracy: 0.9244\n",
            "accuracy = 0.9247666666666666 - test accuracy: 0.9191\n",
            "accuracy = 0.9257833333333333 - test accuracy: 0.9153\n",
            "accuracy = 0.9226 - test accuracy: 0.915\n",
            "accuracy = 0.9262 - test accuracy: 0.9183\n",
            "accuracy = 0.9225666666666666 - test accuracy: 0.9131\n",
            "accuracy = 0.9047333333333333 - test accuracy: 0.8975\n",
            "accuracy = 0.9248833333333333 - test accuracy: 0.9153\n",
            "accuracy = 0.9275666666666667 - test accuracy: 0.9195\n",
            "accuracy = 0.9314 - test accuracy: 0.9228\n",
            "accuracy = 0.9218666666666666 - test accuracy: 0.9148\n",
            "accuracy = 0.92845 - test accuracy: 0.918\n",
            "accuracy = 0.9270666666666667 - test accuracy: 0.9151\n",
            "accuracy = 0.92815 - test accuracy: 0.9195\n",
            "accuracy = 0.9316166666666666 - test accuracy: 0.9213\n",
            "accuracy = 0.9278666666666666 - test accuracy: 0.9203\n",
            "accuracy = 0.9298166666666666 - test accuracy: 0.9226\n",
            "accuracy = 0.91495 - test accuracy: 0.9104\n",
            "accuracy = 0.9209833333333334 - test accuracy: 0.9137\n",
            "accuracy = 0.91875 - test accuracy: 0.9097\n",
            "accuracy = 0.9251666666666667 - test accuracy: 0.9135\n",
            "accuracy = 0.9216166666666666 - test accuracy: 0.9125\n",
            "accuracy = 0.9271 - test accuracy: 0.9189\n",
            "accuracy = 0.93135 - test accuracy: 0.9235\n",
            "accuracy = 0.9324 - test accuracy: 0.921\n",
            "accuracy = 0.9242833333333333 - test accuracy: 0.9178\n",
            "accuracy = 0.8936166666666666 - test accuracy: 0.8868\n",
            "accuracy = 0.9249666666666667 - test accuracy: 0.9178\n",
            "accuracy = 0.9303166666666667 - test accuracy: 0.92\n",
            "accuracy = 0.9328666666666666 - test accuracy: 0.9235\n",
            "accuracy = 0.9296666666666666 - test accuracy: 0.9206\n",
            "accuracy = 0.9224833333333333 - test accuracy: 0.9141\n",
            "accuracy = 0.9180666666666667 - test accuracy: 0.9117\n",
            "accuracy = 0.9263333333333333 - test accuracy: 0.9178\n",
            "accuracy = 0.9296666666666666 - test accuracy: 0.9191\n",
            "accuracy = 0.9136 - test accuracy: 0.9047\n",
            "accuracy = 0.92415 - test accuracy: 0.9133\n",
            "accuracy = 0.9230166666666667 - test accuracy: 0.9157\n",
            "accuracy = 0.9317833333333333 - test accuracy: 0.9228\n",
            "accuracy = 0.9198 - test accuracy: 0.9097\n",
            "accuracy = 0.9308 - test accuracy: 0.9207\n",
            "accuracy = 0.92555 - test accuracy: 0.9189\n",
            "accuracy = 0.9288666666666666 - test accuracy: 0.9201\n",
            "accuracy = 0.9211 - test accuracy: 0.9108\n",
            "accuracy = 0.9300666666666667 - test accuracy: 0.9207\n",
            "accuracy = 0.9373333333333334 - test accuracy: 0.9288\n",
            "accuracy = 0.91705 - test accuracy: 0.9061\n",
            "accuracy = 0.8944166666666666 - test accuracy: 0.889\n",
            "accuracy = 0.928 - test accuracy: 0.9174\n",
            "accuracy = 0.9263333333333333 - test accuracy: 0.9186\n",
            "accuracy = 0.9115 - test accuracy: 0.9022\n",
            "accuracy = 0.9109666666666667 - test accuracy: 0.9053\n",
            "accuracy = 0.9308666666666666 - test accuracy: 0.9201\n",
            "accuracy = 0.9230333333333334 - test accuracy: 0.9154\n",
            "accuracy = 0.9251833333333334 - test accuracy: 0.9162\n",
            "accuracy = 0.9197833333333333 - test accuracy: 0.9131\n",
            "accuracy = 0.92935 - test accuracy: 0.9189\n",
            "accuracy = 0.9175 - test accuracy: 0.9087\n",
            "accuracy = 0.9215833333333333 - test accuracy: 0.9121\n",
            "accuracy = 0.9326833333333333 - test accuracy: 0.924\n",
            "accuracy = 0.9101666666666667 - test accuracy: 0.9028\n",
            "accuracy = 0.8927833333333334 - test accuracy: 0.886\n",
            "accuracy = 0.9255 - test accuracy: 0.9161\n",
            "accuracy = 0.9247333333333333 - test accuracy: 0.9144\n",
            "accuracy = 0.9055666666666666 - test accuracy: 0.9015\n",
            "accuracy = 0.9207333333333333 - test accuracy: 0.9119\n",
            "accuracy = 0.9146666666666666 - test accuracy: 0.9081\n",
            "accuracy = 0.9240166666666667 - test accuracy: 0.9156\n",
            "accuracy = 0.9282333333333334 - test accuracy: 0.919\n",
            "accuracy = 0.9278166666666666 - test accuracy: 0.9185\n",
            "accuracy = 0.9268 - test accuracy: 0.9183\n",
            "accuracy = 0.9263833333333333 - test accuracy: 0.9185\n",
            "accuracy = 0.9289666666666667 - test accuracy: 0.9204\n",
            "accuracy = 0.9280166666666667 - test accuracy: 0.9195\n",
            "accuracy = 0.92915 - test accuracy: 0.922\n",
            "accuracy = 0.9320833333333334 - test accuracy: 0.9231\n"
          ],
          "name": "stdout"
        }
      ]
    },
    {
      "cell_type": "code",
      "metadata": {
        "id": "R-uCBYd5auhv"
      },
      "source": [
        "#Check accuracy\n",
        "def check_accuracy(X, W, b, Y):\n",
        "  gut = 0\n",
        "  n_samples, n_features = X.shape\n",
        "  for i in range(n_samples):\n",
        "    linear_output = np.dot(X[i], W) + b\n",
        "    activation_output = np.where(linear_output>=0, 1, 0)\n",
        "    update = Y[i] - activation_output\n",
        "    if update == 0:\n",
        "      gut +=1\n",
        "  return gut / n_samples"
      ],
      "execution_count": null,
      "outputs": []
    },
    {
      "cell_type": "code",
      "metadata": {
        "id": "deMj0y_mcFT4"
      },
      "source": [
        "import numpy as np\n",
        "\n",
        "\n",
        "class Perceptron:\n",
        "\n",
        "    def __init__(self, learning_rate=0.01, n_iters=1000):\n",
        "        self.lr = learning_rate\n",
        "        self.n_iters = n_iters\n",
        "        self.activation_func = self._unit_step_func\n",
        "        self.weights = None\n",
        "        self.bias = None\n",
        "\n",
        "    def fit(self, X, y):\n",
        "        n_samples, n_features = X.shape\n",
        "\n",
        "        # init parameters\n",
        "        self.weights = np.zeros(n_features)\n",
        "        self.bias = 0\n",
        "\n",
        "        y_ = np.array([1 if i > 0 else 0 for i in y])\n",
        "\n",
        "        for _ in range(self.n_iters):\n",
        "            \n",
        "            for idx, x_i in enumerate(X):\n",
        "\n",
        "                linear_output = np.dot(x_i, self.weights) + self.bias\n",
        "                y_predicted = self.activation_func(linear_output)\n",
        "                \n",
        "                # Perceptron update rule\n",
        "                update = self.lr * (y_[idx] - y_predicted)\n",
        "\n",
        "                self.weights += update * x_i\n",
        "                self.bias += update\n",
        "\n",
        "    def predict(self, X):\n",
        "        linear_output = np.dot(X, self.weights) + self.bias\n",
        "        y_predicted = self.activation_func(linear_output)\n",
        "        return y_predicted\n",
        "\n",
        "    def _unit_step_func(self, x):\n",
        "        return np.where(x>=0, 1, 0)"
      ],
      "execution_count": null,
      "outputs": []
    },
    {
      "cell_type": "code",
      "metadata": {
        "id": "XBbIOdB2ol3k"
      },
      "source": [
        "train = mnist.train_images()"
      ],
      "execution_count": null,
      "outputs": []
    },
    {
      "cell_type": "code",
      "metadata": {
        "id": "aoNl0wlEo84R",
        "colab": {
          "base_uri": "https://localhost:8080/",
          "height": 283
        },
        "outputId": "1fc1b8c3-677b-4e5f-cb4d-31887c63698e"
      },
      "source": [
        "#type(train)\n",
        "#print(train[4])\n",
        "plt.imshow(test_imgs[47].reshape(28, 28))\n",
        "#plt.imshow(train[48].reshape(28, 28))"
      ],
      "execution_count": null,
      "outputs": [
        {
          "output_type": "execute_result",
          "data": {
            "text/plain": [
              "<matplotlib.image.AxesImage at 0x7f88222fb978>"
            ]
          },
          "metadata": {
            "tags": []
          },
          "execution_count": 16
        },
        {
          "output_type": "display_data",
          "data": {
            "image/png": "[encoded data removed]",
            "text/plain": [
              "<Figure size 432x288 with 1 Axes>"
            ]
          },
          "metadata": {
            "tags": [],
            "needs_background": "light"
          }
        }
      ]
    }
  ]
}